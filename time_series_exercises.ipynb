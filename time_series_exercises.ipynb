{
 "cells": [
  {
   "cell_type": "code",
   "execution_count": 1,
   "id": "1c02bbc0",
   "metadata": {},
   "outputs": [],
   "source": [
    "import pandas as pd\n",
    "import numpy as np\n",
    "\n",
    "import matplotlib.pyplot as plt\n",
    "import seaborn as sns\n",
    "\n",
    "from vega_datasets import data"
   ]
  },
  {
   "cell_type": "markdown",
   "id": "5d4f2023",
   "metadata": {},
   "source": [
    "# Part 1"
   ]
  },
  {
   "cell_type": "markdown",
   "id": "47c8e785",
   "metadata": {},
   "source": [
    "### Call the sf_temps() dataset from the vega_datasets library like so:\n",
    "data.sf_temps()"
   ]
  },
  {
   "cell_type": "code",
   "execution_count": 34,
   "id": "7cf33a65",
   "metadata": {},
   "outputs": [
    {
     "data": {
      "text/html": [
       "<div>\n",
       "<style scoped>\n",
       "    .dataframe tbody tr th:only-of-type {\n",
       "        vertical-align: middle;\n",
       "    }\n",
       "\n",
       "    .dataframe tbody tr th {\n",
       "        vertical-align: top;\n",
       "    }\n",
       "\n",
       "    .dataframe thead th {\n",
       "        text-align: right;\n",
       "    }\n",
       "</style>\n",
       "<table border=\"1\" class=\"dataframe\">\n",
       "  <thead>\n",
       "    <tr style=\"text-align: right;\">\n",
       "      <th></th>\n",
       "      <th>temp</th>\n",
       "      <th>date</th>\n",
       "    </tr>\n",
       "  </thead>\n",
       "  <tbody>\n",
       "    <tr>\n",
       "      <th>0</th>\n",
       "      <td>47.8</td>\n",
       "      <td>2010-01-01 00:00:00</td>\n",
       "    </tr>\n",
       "    <tr>\n",
       "      <th>1</th>\n",
       "      <td>47.4</td>\n",
       "      <td>2010-01-01 01:00:00</td>\n",
       "    </tr>\n",
       "    <tr>\n",
       "      <th>2</th>\n",
       "      <td>46.9</td>\n",
       "      <td>2010-01-01 02:00:00</td>\n",
       "    </tr>\n",
       "    <tr>\n",
       "      <th>3</th>\n",
       "      <td>46.5</td>\n",
       "      <td>2010-01-01 03:00:00</td>\n",
       "    </tr>\n",
       "    <tr>\n",
       "      <th>4</th>\n",
       "      <td>46.0</td>\n",
       "      <td>2010-01-01 04:00:00</td>\n",
       "    </tr>\n",
       "  </tbody>\n",
       "</table>\n",
       "</div>"
      ],
      "text/plain": [
       "   temp                date\n",
       "0  47.8 2010-01-01 00:00:00\n",
       "1  47.4 2010-01-01 01:00:00\n",
       "2  46.9 2010-01-01 02:00:00\n",
       "3  46.5 2010-01-01 03:00:00\n",
       "4  46.0 2010-01-01 04:00:00"
      ]
     },
     "execution_count": 34,
     "metadata": {},
     "output_type": "execute_result"
    }
   ],
   "source": [
    "# getting data\n",
    "df = data.sf_temps()\n",
    "df.head()"
   ]
  },
  {
   "cell_type": "markdown",
   "id": "2418dd03",
   "metadata": {},
   "source": [
    "### Resample by the day and take the average temperature. Visualize the average temperature over time."
   ]
  },
  {
   "cell_type": "code",
   "execution_count": 3,
   "id": "41e48490",
   "metadata": {},
   "outputs": [
    {
     "data": {
      "text/plain": [
       "temp           float64\n",
       "date    datetime64[ns]\n",
       "dtype: object"
      ]
     },
     "execution_count": 3,
     "metadata": {},
     "output_type": "execute_result"
    }
   ],
   "source": [
    "# checking data types\n",
    "df.dtypes"
   ]
  },
  {
   "cell_type": "code",
   "execution_count": 35,
   "id": "e20bc6f3",
   "metadata": {},
   "outputs": [],
   "source": [
    "# setting index to date\n",
    "df = df.set_index('date')"
   ]
  },
  {
   "cell_type": "code",
   "execution_count": 5,
   "id": "92143529",
   "metadata": {},
   "outputs": [
    {
     "data": {
      "text/html": [
       "<div>\n",
       "<style scoped>\n",
       "    .dataframe tbody tr th:only-of-type {\n",
       "        vertical-align: middle;\n",
       "    }\n",
       "\n",
       "    .dataframe tbody tr th {\n",
       "        vertical-align: top;\n",
       "    }\n",
       "\n",
       "    .dataframe thead th {\n",
       "        text-align: right;\n",
       "    }\n",
       "</style>\n",
       "<table border=\"1\" class=\"dataframe\">\n",
       "  <thead>\n",
       "    <tr style=\"text-align: right;\">\n",
       "      <th></th>\n",
       "      <th>temp</th>\n",
       "    </tr>\n",
       "    <tr>\n",
       "      <th>date</th>\n",
       "      <th></th>\n",
       "    </tr>\n",
       "  </thead>\n",
       "  <tbody>\n",
       "    <tr>\n",
       "      <th>2010-01-01</th>\n",
       "      <td>49.170833</td>\n",
       "    </tr>\n",
       "    <tr>\n",
       "      <th>2010-01-02</th>\n",
       "      <td>49.304167</td>\n",
       "    </tr>\n",
       "    <tr>\n",
       "      <th>2010-01-03</th>\n",
       "      <td>49.391667</td>\n",
       "    </tr>\n",
       "    <tr>\n",
       "      <th>2010-01-04</th>\n",
       "      <td>49.445833</td>\n",
       "    </tr>\n",
       "    <tr>\n",
       "      <th>2010-01-05</th>\n",
       "      <td>49.491667</td>\n",
       "    </tr>\n",
       "    <tr>\n",
       "      <th>...</th>\n",
       "      <td>...</td>\n",
       "    </tr>\n",
       "    <tr>\n",
       "      <th>2010-12-27</th>\n",
       "      <td>48.991667</td>\n",
       "    </tr>\n",
       "    <tr>\n",
       "      <th>2010-12-28</th>\n",
       "      <td>49.000000</td>\n",
       "    </tr>\n",
       "    <tr>\n",
       "      <th>2010-12-29</th>\n",
       "      <td>49.012500</td>\n",
       "    </tr>\n",
       "    <tr>\n",
       "      <th>2010-12-30</th>\n",
       "      <td>49.012500</td>\n",
       "    </tr>\n",
       "    <tr>\n",
       "      <th>2010-12-31</th>\n",
       "      <td>49.116667</td>\n",
       "    </tr>\n",
       "  </tbody>\n",
       "</table>\n",
       "<p>365 rows × 1 columns</p>\n",
       "</div>"
      ],
      "text/plain": [
       "                 temp\n",
       "date                 \n",
       "2010-01-01  49.170833\n",
       "2010-01-02  49.304167\n",
       "2010-01-03  49.391667\n",
       "2010-01-04  49.445833\n",
       "2010-01-05  49.491667\n",
       "...               ...\n",
       "2010-12-27  48.991667\n",
       "2010-12-28  49.000000\n",
       "2010-12-29  49.012500\n",
       "2010-12-30  49.012500\n",
       "2010-12-31  49.116667\n",
       "\n",
       "[365 rows x 1 columns]"
      ]
     },
     "execution_count": 5,
     "metadata": {},
     "output_type": "execute_result"
    }
   ],
   "source": [
    "# getting the average daily temperatures\n",
    "df.resample('D').mean()"
   ]
  },
  {
   "cell_type": "code",
   "execution_count": 37,
   "id": "377bd8c9",
   "metadata": {},
   "outputs": [
    {
     "data": {
      "text/plain": [
       "date\n",
       "2010-01-01    49.170833\n",
       "2010-01-02    49.304167\n",
       "2010-01-03    49.391667\n",
       "2010-01-04    49.445833\n",
       "2010-01-05    49.491667\n",
       "                ...    \n",
       "2010-12-27    48.991667\n",
       "2010-12-28    49.000000\n",
       "2010-12-29    49.012500\n",
       "2010-12-30    49.012500\n",
       "2010-12-31    49.116667\n",
       "Freq: D, Name: temp, Length: 365, dtype: float64"
      ]
     },
     "execution_count": 37,
     "metadata": {},
     "output_type": "execute_result"
    }
   ],
   "source": [
    "df.resample('D').temp.mean()"
   ]
  },
  {
   "cell_type": "code",
   "execution_count": 6,
   "id": "b8144905",
   "metadata": {},
   "outputs": [
    {
     "data": {
      "text/plain": [
       "<AxesSubplot:xlabel='date'>"
      ]
     },
     "execution_count": 6,
     "metadata": {},
     "output_type": "execute_result"
    },
    {
     "data": {
      "image/png": "[encoded data removed]",
      "text/plain": [
       "<Figure size 640x480 with 1 Axes>"
      ]
     },
     "metadata": {},
     "output_type": "display_data"
    }
   ],
   "source": [
    "# getting the visuals for avg daily temp over time\n",
    "df.resample('D').mean().plot()"
   ]
  },
  {
   "cell_type": "code",
   "execution_count": 38,
   "id": "fb7789e3",
   "metadata": {},
   "outputs": [
    {
     "data": {
      "text/plain": [
       "<AxesSubplot:xlabel='date'>"
      ]
     },
     "execution_count": 38,
     "metadata": {},
     "output_type": "execute_result"
    },
    {
     "data": {
      "image/png": "[encoded data removed]",
      "text/plain": [
       "<Figure size 640x480 with 1 Axes>"
      ]
     },
     "metadata": {},
     "output_type": "display_data"
    }
   ],
   "source": [
    "df.resample('D').temp.mean().plot()"
   ]
  },
  {
   "cell_type": "markdown",
   "id": "59813082",
   "metadata": {},
   "source": [
    "### Write the code necessary to visualize the minimum temperature over time."
   ]
  },
  {
   "cell_type": "code",
   "execution_count": 7,
   "id": "2119f9af",
   "metadata": {},
   "outputs": [
    {
     "data": {
      "text/plain": [
       "<AxesSubplot:xlabel='date'>"
      ]
     },
     "execution_count": 7,
     "metadata": {},
     "output_type": "execute_result"
    },
    {
     "data": {
      "image/png": "[encoded data removed]",
      "text/plain": [
       "<Figure size 640x480 with 1 Axes>"
      ]
     },
     "metadata": {},
     "output_type": "display_data"
    }
   ],
   "source": [
    "# getting the minimum temperature per day and plotting\n",
    "df.resample('D').min().plot()"
   ]
  },
  {
   "cell_type": "markdown",
   "id": "e1e9410f",
   "metadata": {},
   "source": [
    "### Write the code necessary to visualize the maximum temperature over time."
   ]
  },
  {
   "cell_type": "code",
   "execution_count": 8,
   "id": "77f8e10b",
   "metadata": {},
   "outputs": [
    {
     "data": {
      "text/plain": [
       "<AxesSubplot:xlabel='date'>"
      ]
     },
     "execution_count": 8,
     "metadata": {},
     "output_type": "execute_result"
    },
    {
     "data": {
      "image/png": "[encoded data removed]",
      "text/plain": [
       "<Figure size 640x480 with 1 Axes>"
      ]
     },
     "metadata": {},
     "output_type": "display_data"
    }
   ],
   "source": [
    "# resmapling by the day and getting the maximum temp for each day and visualising\n",
    "df.resample('D').max().plot()"
   ]
  },
  {
   "cell_type": "markdown",
   "id": "5deed34a",
   "metadata": {},
   "source": [
    "### Which month is the coldest, on average?"
   ]
  },
  {
   "cell_type": "code",
   "execution_count": 40,
   "id": "9901e6ce",
   "metadata": {},
   "outputs": [
    {
     "data": {
      "text/html": [
       "<div>\n",
       "<style scoped>\n",
       "    .dataframe tbody tr th:only-of-type {\n",
       "        vertical-align: middle;\n",
       "    }\n",
       "\n",
       "    .dataframe tbody tr th {\n",
       "        vertical-align: top;\n",
       "    }\n",
       "\n",
       "    .dataframe thead th {\n",
       "        text-align: right;\n",
       "    }\n",
       "</style>\n",
       "<table border=\"1\" class=\"dataframe\">\n",
       "  <thead>\n",
       "    <tr style=\"text-align: right;\">\n",
       "      <th></th>\n",
       "      <th>temp</th>\n",
       "    </tr>\n",
       "    <tr>\n",
       "      <th>date</th>\n",
       "      <th></th>\n",
       "    </tr>\n",
       "  </thead>\n",
       "  <tbody>\n",
       "    <tr>\n",
       "      <th>2010-01-31</th>\n",
       "      <td>49.984140</td>\n",
       "    </tr>\n",
       "    <tr>\n",
       "      <th>2010-12-31</th>\n",
       "      <td>50.498253</td>\n",
       "    </tr>\n",
       "    <tr>\n",
       "      <th>2010-02-28</th>\n",
       "      <td>52.243899</td>\n",
       "    </tr>\n",
       "    <tr>\n",
       "      <th>2010-03-31</th>\n",
       "      <td>53.956528</td>\n",
       "    </tr>\n",
       "    <tr>\n",
       "      <th>2010-11-30</th>\n",
       "      <td>55.185139</td>\n",
       "    </tr>\n",
       "    <tr>\n",
       "      <th>2010-04-30</th>\n",
       "      <td>55.633056</td>\n",
       "    </tr>\n",
       "    <tr>\n",
       "      <th>2010-05-31</th>\n",
       "      <td>57.970968</td>\n",
       "    </tr>\n",
       "    <tr>\n",
       "      <th>2010-10-31</th>\n",
       "      <td>60.253091</td>\n",
       "    </tr>\n",
       "    <tr>\n",
       "      <th>2010-06-30</th>\n",
       "      <td>60.444722</td>\n",
       "    </tr>\n",
       "    <tr>\n",
       "      <th>2010-07-31</th>\n",
       "      <td>61.765457</td>\n",
       "    </tr>\n",
       "    <tr>\n",
       "      <th>2010-08-31</th>\n",
       "      <td>62.405376</td>\n",
       "    </tr>\n",
       "    <tr>\n",
       "      <th>2010-09-30</th>\n",
       "      <td>62.487083</td>\n",
       "    </tr>\n",
       "  </tbody>\n",
       "</table>\n",
       "</div>"
      ],
      "text/plain": [
       "                 temp\n",
       "date                 \n",
       "2010-01-31  49.984140\n",
       "2010-12-31  50.498253\n",
       "2010-02-28  52.243899\n",
       "2010-03-31  53.956528\n",
       "2010-11-30  55.185139\n",
       "2010-04-30  55.633056\n",
       "2010-05-31  57.970968\n",
       "2010-10-31  60.253091\n",
       "2010-06-30  60.444722\n",
       "2010-07-31  61.765457\n",
       "2010-08-31  62.405376\n",
       "2010-09-30  62.487083"
      ]
     },
     "execution_count": 40,
     "metadata": {},
     "output_type": "execute_result"
    }
   ],
   "source": [
    "# sort the values\n",
    "df.resample('M').mean().sort_values(by='temp')"
   ]
  },
  {
   "cell_type": "code",
   "execution_count": 9,
   "id": "c87e548d",
   "metadata": {},
   "outputs": [
    {
     "data": {
      "text/html": [
       "<div>\n",
       "<style scoped>\n",
       "    .dataframe tbody tr th:only-of-type {\n",
       "        vertical-align: middle;\n",
       "    }\n",
       "\n",
       "    .dataframe tbody tr th {\n",
       "        vertical-align: top;\n",
       "    }\n",
       "\n",
       "    .dataframe thead th {\n",
       "        text-align: right;\n",
       "    }\n",
       "</style>\n",
       "<table border=\"1\" class=\"dataframe\">\n",
       "  <thead>\n",
       "    <tr style=\"text-align: right;\">\n",
       "      <th></th>\n",
       "      <th>temp</th>\n",
       "    </tr>\n",
       "    <tr>\n",
       "      <th>date</th>\n",
       "      <th></th>\n",
       "    </tr>\n",
       "  </thead>\n",
       "  <tbody>\n",
       "    <tr>\n",
       "      <th>2010-01-31</th>\n",
       "      <td>49.98414</td>\n",
       "    </tr>\n",
       "    <tr>\n",
       "      <th>2010-02-28</th>\n",
       "      <td>NaN</td>\n",
       "    </tr>\n",
       "    <tr>\n",
       "      <th>2010-03-31</th>\n",
       "      <td>NaN</td>\n",
       "    </tr>\n",
       "    <tr>\n",
       "      <th>2010-04-30</th>\n",
       "      <td>NaN</td>\n",
       "    </tr>\n",
       "    <tr>\n",
       "      <th>2010-05-31</th>\n",
       "      <td>NaN</td>\n",
       "    </tr>\n",
       "    <tr>\n",
       "      <th>2010-06-30</th>\n",
       "      <td>NaN</td>\n",
       "    </tr>\n",
       "    <tr>\n",
       "      <th>2010-07-31</th>\n",
       "      <td>NaN</td>\n",
       "    </tr>\n",
       "    <tr>\n",
       "      <th>2010-08-31</th>\n",
       "      <td>NaN</td>\n",
       "    </tr>\n",
       "    <tr>\n",
       "      <th>2010-09-30</th>\n",
       "      <td>NaN</td>\n",
       "    </tr>\n",
       "    <tr>\n",
       "      <th>2010-10-31</th>\n",
       "      <td>NaN</td>\n",
       "    </tr>\n",
       "    <tr>\n",
       "      <th>2010-11-30</th>\n",
       "      <td>NaN</td>\n",
       "    </tr>\n",
       "    <tr>\n",
       "      <th>2010-12-31</th>\n",
       "      <td>NaN</td>\n",
       "    </tr>\n",
       "  </tbody>\n",
       "</table>\n",
       "</div>"
      ],
      "text/plain": [
       "                temp\n",
       "date                \n",
       "2010-01-31  49.98414\n",
       "2010-02-28       NaN\n",
       "2010-03-31       NaN\n",
       "2010-04-30       NaN\n",
       "2010-05-31       NaN\n",
       "2010-06-30       NaN\n",
       "2010-07-31       NaN\n",
       "2010-08-31       NaN\n",
       "2010-09-30       NaN\n",
       "2010-10-31       NaN\n",
       "2010-11-30       NaN\n",
       "2010-12-31       NaN"
      ]
     },
     "execution_count": 9,
     "metadata": {},
     "output_type": "execute_result"
    }
   ],
   "source": [
    "# january\n",
    "df.resample('M').mean()[df.resample('M').mean() == df.resample('M').mean().min()]"
   ]
  },
  {
   "cell_type": "markdown",
   "id": "787afab6",
   "metadata": {},
   "source": [
    "### Which month has the highest average temperature?"
   ]
  },
  {
   "cell_type": "code",
   "execution_count": 41,
   "id": "d527357c",
   "metadata": {},
   "outputs": [
    {
     "data": {
      "text/plain": [
       "temp   2010-09-30\n",
       "dtype: datetime64[ns]"
      ]
     },
     "execution_count": 41,
     "metadata": {},
     "output_type": "execute_result"
    }
   ],
   "source": [
    "df.resample('M').mean().idxmax()"
   ]
  },
  {
   "cell_type": "code",
   "execution_count": 10,
   "id": "771c7db3",
   "metadata": {},
   "outputs": [
    {
     "data": {
      "text/html": [
       "<div>\n",
       "<style scoped>\n",
       "    .dataframe tbody tr th:only-of-type {\n",
       "        vertical-align: middle;\n",
       "    }\n",
       "\n",
       "    .dataframe tbody tr th {\n",
       "        vertical-align: top;\n",
       "    }\n",
       "\n",
       "    .dataframe thead th {\n",
       "        text-align: right;\n",
       "    }\n",
       "</style>\n",
       "<table border=\"1\" class=\"dataframe\">\n",
       "  <thead>\n",
       "    <tr style=\"text-align: right;\">\n",
       "      <th></th>\n",
       "      <th>temp</th>\n",
       "    </tr>\n",
       "    <tr>\n",
       "      <th>date</th>\n",
       "      <th></th>\n",
       "    </tr>\n",
       "  </thead>\n",
       "  <tbody>\n",
       "    <tr>\n",
       "      <th>2010-01-31</th>\n",
       "      <td>NaN</td>\n",
       "    </tr>\n",
       "    <tr>\n",
       "      <th>2010-02-28</th>\n",
       "      <td>NaN</td>\n",
       "    </tr>\n",
       "    <tr>\n",
       "      <th>2010-03-31</th>\n",
       "      <td>NaN</td>\n",
       "    </tr>\n",
       "    <tr>\n",
       "      <th>2010-04-30</th>\n",
       "      <td>NaN</td>\n",
       "    </tr>\n",
       "    <tr>\n",
       "      <th>2010-05-31</th>\n",
       "      <td>NaN</td>\n",
       "    </tr>\n",
       "    <tr>\n",
       "      <th>2010-06-30</th>\n",
       "      <td>NaN</td>\n",
       "    </tr>\n",
       "    <tr>\n",
       "      <th>2010-07-31</th>\n",
       "      <td>NaN</td>\n",
       "    </tr>\n",
       "    <tr>\n",
       "      <th>2010-08-31</th>\n",
       "      <td>NaN</td>\n",
       "    </tr>\n",
       "    <tr>\n",
       "      <th>2010-09-30</th>\n",
       "      <td>62.487083</td>\n",
       "    </tr>\n",
       "    <tr>\n",
       "      <th>2010-10-31</th>\n",
       "      <td>NaN</td>\n",
       "    </tr>\n",
       "    <tr>\n",
       "      <th>2010-11-30</th>\n",
       "      <td>NaN</td>\n",
       "    </tr>\n",
       "    <tr>\n",
       "      <th>2010-12-31</th>\n",
       "      <td>NaN</td>\n",
       "    </tr>\n",
       "  </tbody>\n",
       "</table>\n",
       "</div>"
      ],
      "text/plain": [
       "                 temp\n",
       "date                 \n",
       "2010-01-31        NaN\n",
       "2010-02-28        NaN\n",
       "2010-03-31        NaN\n",
       "2010-04-30        NaN\n",
       "2010-05-31        NaN\n",
       "2010-06-30        NaN\n",
       "2010-07-31        NaN\n",
       "2010-08-31        NaN\n",
       "2010-09-30  62.487083\n",
       "2010-10-31        NaN\n",
       "2010-11-30        NaN\n",
       "2010-12-31        NaN"
      ]
     },
     "execution_count": 10,
     "metadata": {},
     "output_type": "execute_result"
    }
   ],
   "source": [
    "# september has the higghest average temp\n",
    "df.resample('M').mean()[df.resample('M').mean() == df.resample('M').mean().max()]"
   ]
  },
  {
   "cell_type": "markdown",
   "id": "1a18e5ad",
   "metadata": {},
   "source": [
    "### Resample by the day and calculate the min and max temp for the day (Hint: .agg(['min', 'max'])). Use this resampled dataframe to calculate the change in temperature for the day. Which month has the highest daily temperature variability?"
   ]
  },
  {
   "cell_type": "code",
   "execution_count": 42,
   "id": "9967f954",
   "metadata": {},
   "outputs": [
    {
     "data": {
      "text/plain": [
       "MultiIndex([('temp', 'min'),\n",
       "            ('temp', 'max')],\n",
       "           )"
      ]
     },
     "execution_count": 42,
     "metadata": {},
     "output_type": "execute_result"
    }
   ],
   "source": [
    "# getting average min and max temp and creating a new df with this info\n",
    "new_df = df.resample('D').agg(['min', 'max'])\n",
    "new_df.columns"
   ]
  },
  {
   "cell_type": "code",
   "execution_count": 43,
   "id": "9978573c",
   "metadata": {},
   "outputs": [],
   "source": [
    "# creating new column with variability in it\n",
    "new_df['variability'] = abs(new_df[('temp', 'min')] - new_df[('temp', 'max')])"
   ]
  },
  {
   "cell_type": "code",
   "execution_count": 49,
   "id": "da4a0350",
   "metadata": {},
   "outputs": [
    {
     "data": {
      "text/plain": [
       "Timestamp('2010-09-30 00:00:00', freq='M')"
      ]
     },
     "execution_count": 49,
     "metadata": {},
     "output_type": "execute_result"
    }
   ],
   "source": [
    "# september\n",
    "new_df.resample('M').variability.mean().idxmax()"
   ]
  },
  {
   "cell_type": "markdown",
   "id": "a184ea70",
   "metadata": {},
   "source": [
    "### Bonus: Visualize the daily min, average, and max temperature over time on a single line plot, i.e. the min, average, and maximum temperature should be 3 seperate lines."
   ]
  },
  {
   "cell_type": "code",
   "execution_count": 14,
   "id": "6d315c30",
   "metadata": {
    "scrolled": true
   },
   "outputs": [
    {
     "data": {
      "text/plain": [
       "<AxesSubplot:xlabel='date'>"
      ]
     },
     "execution_count": 14,
     "metadata": {},
     "output_type": "execute_result"
    },
    {
     "data": {
      "image/png": "[encoded data removed]",
      "text/plain": [
       "<Figure size 640x480 with 1 Axes>"
      ]
     },
     "metadata": {},
     "output_type": "display_data"
    }
   ],
   "source": [
    "# reampling and creating a plot\n",
    "df.resample('D').agg(['mean', 'min', 'max']).plot()"
   ]
  },
  {
   "cell_type": "markdown",
   "id": "f4a96651",
   "metadata": {},
   "source": [
    "# Part 2"
   ]
  },
  {
   "cell_type": "code",
   "execution_count": 50,
   "id": "ecf621b2",
   "metadata": {},
   "outputs": [
    {
     "data": {
      "text/html": [
       "<div>\n",
       "<style scoped>\n",
       "    .dataframe tbody tr th:only-of-type {\n",
       "        vertical-align: middle;\n",
       "    }\n",
       "\n",
       "    .dataframe tbody tr th {\n",
       "        vertical-align: top;\n",
       "    }\n",
       "\n",
       "    .dataframe thead th {\n",
       "        text-align: right;\n",
       "    }\n",
       "</style>\n",
       "<table border=\"1\" class=\"dataframe\">\n",
       "  <thead>\n",
       "    <tr style=\"text-align: right;\">\n",
       "      <th></th>\n",
       "      <th>date</th>\n",
       "      <th>precipitation</th>\n",
       "      <th>temp_max</th>\n",
       "      <th>temp_min</th>\n",
       "      <th>wind</th>\n",
       "      <th>weather</th>\n",
       "    </tr>\n",
       "  </thead>\n",
       "  <tbody>\n",
       "    <tr>\n",
       "      <th>0</th>\n",
       "      <td>2012-01-01</td>\n",
       "      <td>0.0</td>\n",
       "      <td>12.8</td>\n",
       "      <td>5.0</td>\n",
       "      <td>4.7</td>\n",
       "      <td>drizzle</td>\n",
       "    </tr>\n",
       "    <tr>\n",
       "      <th>1</th>\n",
       "      <td>2012-01-02</td>\n",
       "      <td>10.9</td>\n",
       "      <td>10.6</td>\n",
       "      <td>2.8</td>\n",
       "      <td>4.5</td>\n",
       "      <td>rain</td>\n",
       "    </tr>\n",
       "    <tr>\n",
       "      <th>2</th>\n",
       "      <td>2012-01-03</td>\n",
       "      <td>0.8</td>\n",
       "      <td>11.7</td>\n",
       "      <td>7.2</td>\n",
       "      <td>2.3</td>\n",
       "      <td>rain</td>\n",
       "    </tr>\n",
       "    <tr>\n",
       "      <th>3</th>\n",
       "      <td>2012-01-04</td>\n",
       "      <td>20.3</td>\n",
       "      <td>12.2</td>\n",
       "      <td>5.6</td>\n",
       "      <td>4.7</td>\n",
       "      <td>rain</td>\n",
       "    </tr>\n",
       "    <tr>\n",
       "      <th>4</th>\n",
       "      <td>2012-01-05</td>\n",
       "      <td>1.3</td>\n",
       "      <td>8.9</td>\n",
       "      <td>2.8</td>\n",
       "      <td>6.1</td>\n",
       "      <td>rain</td>\n",
       "    </tr>\n",
       "  </tbody>\n",
       "</table>\n",
       "</div>"
      ],
      "text/plain": [
       "        date  precipitation  temp_max  temp_min  wind  weather\n",
       "0 2012-01-01            0.0      12.8       5.0   4.7  drizzle\n",
       "1 2012-01-02           10.9      10.6       2.8   4.5     rain\n",
       "2 2012-01-03            0.8      11.7       7.2   2.3     rain\n",
       "3 2012-01-04           20.3      12.2       5.6   4.7     rain\n",
       "4 2012-01-05            1.3       8.9       2.8   6.1     rain"
      ]
     },
     "execution_count": 50,
     "metadata": {},
     "output_type": "execute_result"
    }
   ],
   "source": [
    "# geting data and inspecting\n",
    "df = data.seattle_weather()\n",
    "df.head()"
   ]
  },
  {
   "cell_type": "code",
   "execution_count": 16,
   "id": "dfe4f67f",
   "metadata": {},
   "outputs": [
    {
     "data": {
      "text/plain": [
       "date             datetime64[ns]\n",
       "precipitation           float64\n",
       "temp_max                float64\n",
       "temp_min                float64\n",
       "wind                    float64\n",
       "weather                  object\n",
       "dtype: object"
      ]
     },
     "execution_count": 16,
     "metadata": {},
     "output_type": "execute_result"
    }
   ],
   "source": [
    "# checking dtypes\n",
    "df.dtypes"
   ]
  },
  {
   "cell_type": "markdown",
   "id": "47d6dd3d",
   "metadata": {},
   "source": [
    "### Which year and month combination has the highest amount of precipitation?"
   ]
  },
  {
   "cell_type": "code",
   "execution_count": 17,
   "id": "91d680c1",
   "metadata": {},
   "outputs": [],
   "source": [
    "# setting the year and mponth as separate columns\n",
    "# df['year'], df['month'] = df.date.dt.year, df.date.dt.month"
   ]
  },
  {
   "cell_type": "code",
   "execution_count": 18,
   "id": "98300225",
   "metadata": {},
   "outputs": [
    {
     "data": {
      "text/html": [
       "<div>\n",
       "<style scoped>\n",
       "    .dataframe tbody tr th:only-of-type {\n",
       "        vertical-align: middle;\n",
       "    }\n",
       "\n",
       "    .dataframe tbody tr th {\n",
       "        vertical-align: top;\n",
       "    }\n",
       "\n",
       "    .dataframe thead th {\n",
       "        text-align: right;\n",
       "    }\n",
       "</style>\n",
       "<table border=\"1\" class=\"dataframe\">\n",
       "  <thead>\n",
       "    <tr style=\"text-align: right;\">\n",
       "      <th></th>\n",
       "      <th>date</th>\n",
       "      <th>precipitation</th>\n",
       "      <th>temp_max</th>\n",
       "      <th>temp_min</th>\n",
       "      <th>wind</th>\n",
       "      <th>weather</th>\n",
       "    </tr>\n",
       "  </thead>\n",
       "  <tbody>\n",
       "    <tr>\n",
       "      <th>0</th>\n",
       "      <td>2012-01-01</td>\n",
       "      <td>0.0</td>\n",
       "      <td>12.8</td>\n",
       "      <td>5.0</td>\n",
       "      <td>4.7</td>\n",
       "      <td>drizzle</td>\n",
       "    </tr>\n",
       "    <tr>\n",
       "      <th>1</th>\n",
       "      <td>2012-01-02</td>\n",
       "      <td>10.9</td>\n",
       "      <td>10.6</td>\n",
       "      <td>2.8</td>\n",
       "      <td>4.5</td>\n",
       "      <td>rain</td>\n",
       "    </tr>\n",
       "    <tr>\n",
       "      <th>2</th>\n",
       "      <td>2012-01-03</td>\n",
       "      <td>0.8</td>\n",
       "      <td>11.7</td>\n",
       "      <td>7.2</td>\n",
       "      <td>2.3</td>\n",
       "      <td>rain</td>\n",
       "    </tr>\n",
       "    <tr>\n",
       "      <th>3</th>\n",
       "      <td>2012-01-04</td>\n",
       "      <td>20.3</td>\n",
       "      <td>12.2</td>\n",
       "      <td>5.6</td>\n",
       "      <td>4.7</td>\n",
       "      <td>rain</td>\n",
       "    </tr>\n",
       "    <tr>\n",
       "      <th>4</th>\n",
       "      <td>2012-01-05</td>\n",
       "      <td>1.3</td>\n",
       "      <td>8.9</td>\n",
       "      <td>2.8</td>\n",
       "      <td>6.1</td>\n",
       "      <td>rain</td>\n",
       "    </tr>\n",
       "  </tbody>\n",
       "</table>\n",
       "</div>"
      ],
      "text/plain": [
       "        date  precipitation  temp_max  temp_min  wind  weather\n",
       "0 2012-01-01            0.0      12.8       5.0   4.7  drizzle\n",
       "1 2012-01-02           10.9      10.6       2.8   4.5     rain\n",
       "2 2012-01-03            0.8      11.7       7.2   2.3     rain\n",
       "3 2012-01-04           20.3      12.2       5.6   4.7     rain\n",
       "4 2012-01-05            1.3       8.9       2.8   6.1     rain"
      ]
     },
     "execution_count": 18,
     "metadata": {},
     "output_type": "execute_result"
    }
   ],
   "source": [
    "# checking\n",
    "df.head()"
   ]
  },
  {
   "cell_type": "code",
   "execution_count": 52,
   "id": "f1c7f442",
   "metadata": {},
   "outputs": [],
   "source": [
    "# resetting the index to the date\n",
    "df = df.set_index('date')"
   ]
  },
  {
   "cell_type": "code",
   "execution_count": 53,
   "id": "30701110",
   "metadata": {},
   "outputs": [],
   "source": [
    "# trying to resample by the month and seeing\n",
    "by_month = df.resample('M').sum()"
   ]
  },
  {
   "cell_type": "code",
   "execution_count": 54,
   "id": "5ba190d3",
   "metadata": {},
   "outputs": [
    {
     "data": {
      "text/html": [
       "<div>\n",
       "<style scoped>\n",
       "    .dataframe tbody tr th:only-of-type {\n",
       "        vertical-align: middle;\n",
       "    }\n",
       "\n",
       "    .dataframe tbody tr th {\n",
       "        vertical-align: top;\n",
       "    }\n",
       "\n",
       "    .dataframe thead th {\n",
       "        text-align: right;\n",
       "    }\n",
       "</style>\n",
       "<table border=\"1\" class=\"dataframe\">\n",
       "  <thead>\n",
       "    <tr style=\"text-align: right;\">\n",
       "      <th></th>\n",
       "      <th>precipitation</th>\n",
       "      <th>temp_max</th>\n",
       "      <th>temp_min</th>\n",
       "      <th>wind</th>\n",
       "    </tr>\n",
       "    <tr>\n",
       "      <th>date</th>\n",
       "      <th></th>\n",
       "      <th></th>\n",
       "      <th></th>\n",
       "      <th></th>\n",
       "    </tr>\n",
       "  </thead>\n",
       "  <tbody>\n",
       "    <tr>\n",
       "      <th>2015-12-31</th>\n",
       "      <td>284.5</td>\n",
       "      <td>259.8</td>\n",
       "      <td>118.6</td>\n",
       "      <td>134.6</td>\n",
       "    </tr>\n",
       "  </tbody>\n",
       "</table>\n",
       "</div>"
      ],
      "text/plain": [
       "            precipitation  temp_max  temp_min   wind\n",
       "date                                                \n",
       "2015-12-31          284.5     259.8     118.6  134.6"
      ]
     },
     "execution_count": 54,
     "metadata": {},
     "output_type": "execute_result"
    }
   ],
   "source": [
    "# December of 2015 had the highest precipitation\n",
    "by_month[by_month['precipitation'] == by_month['precipitation'].max()]"
   ]
  },
  {
   "cell_type": "markdown",
   "id": "a96b4b2f",
   "metadata": {},
   "source": [
    "### Visualize the amount of monthly precipitation over time."
   ]
  },
  {
   "cell_type": "code",
   "execution_count": 55,
   "id": "6c932173",
   "metadata": {},
   "outputs": [
    {
     "data": {
      "text/plain": [
       "Text(0, 0.5, 'Precipitation (inches)')"
      ]
     },
     "execution_count": 55,
     "metadata": {},
     "output_type": "execute_result"
    },
    {
     "data": {
      "image/png": "[encoded data removed]",
      "text/plain": [
       "<Figure size 640x480 with 1 Axes>"
      ]
     },
     "metadata": {},
     "output_type": "display_data"
    }
   ],
   "source": [
    "# getting plot of preciupitation\n",
    "by_month['precipitation'].plot()\n",
    "plt.ylabel('Precipitation (inches)')"
   ]
  },
  {
   "cell_type": "markdown",
   "id": "084f8ab2",
   "metadata": {},
   "source": [
    "### Visualize the amount of wind over time. Choose a time interval you think is appropriate."
   ]
  },
  {
   "cell_type": "code",
   "execution_count": 23,
   "id": "01ea07a1",
   "metadata": {},
   "outputs": [],
   "source": [
    "# getting daily averages\n",
    "by_day = df.resample('D').mean()"
   ]
  },
  {
   "cell_type": "code",
   "execution_count": 24,
   "id": "d2c7595b",
   "metadata": {},
   "outputs": [
    {
     "data": {
      "text/html": [
       "<div>\n",
       "<style scoped>\n",
       "    .dataframe tbody tr th:only-of-type {\n",
       "        vertical-align: middle;\n",
       "    }\n",
       "\n",
       "    .dataframe tbody tr th {\n",
       "        vertical-align: top;\n",
       "    }\n",
       "\n",
       "    .dataframe thead th {\n",
       "        text-align: right;\n",
       "    }\n",
       "</style>\n",
       "<table border=\"1\" class=\"dataframe\">\n",
       "  <thead>\n",
       "    <tr style=\"text-align: right;\">\n",
       "      <th></th>\n",
       "      <th>precipitation</th>\n",
       "      <th>temp_max</th>\n",
       "      <th>temp_min</th>\n",
       "      <th>wind</th>\n",
       "    </tr>\n",
       "    <tr>\n",
       "      <th>date</th>\n",
       "      <th></th>\n",
       "      <th></th>\n",
       "      <th></th>\n",
       "      <th></th>\n",
       "    </tr>\n",
       "  </thead>\n",
       "  <tbody>\n",
       "    <tr>\n",
       "      <th>2012-01-01</th>\n",
       "      <td>0.0</td>\n",
       "      <td>12.8</td>\n",
       "      <td>5.0</td>\n",
       "      <td>4.7</td>\n",
       "    </tr>\n",
       "    <tr>\n",
       "      <th>2012-01-02</th>\n",
       "      <td>10.9</td>\n",
       "      <td>10.6</td>\n",
       "      <td>2.8</td>\n",
       "      <td>4.5</td>\n",
       "    </tr>\n",
       "    <tr>\n",
       "      <th>2012-01-03</th>\n",
       "      <td>0.8</td>\n",
       "      <td>11.7</td>\n",
       "      <td>7.2</td>\n",
       "      <td>2.3</td>\n",
       "    </tr>\n",
       "    <tr>\n",
       "      <th>2012-01-04</th>\n",
       "      <td>20.3</td>\n",
       "      <td>12.2</td>\n",
       "      <td>5.6</td>\n",
       "      <td>4.7</td>\n",
       "    </tr>\n",
       "    <tr>\n",
       "      <th>2012-01-05</th>\n",
       "      <td>1.3</td>\n",
       "      <td>8.9</td>\n",
       "      <td>2.8</td>\n",
       "      <td>6.1</td>\n",
       "    </tr>\n",
       "  </tbody>\n",
       "</table>\n",
       "</div>"
      ],
      "text/plain": [
       "            precipitation  temp_max  temp_min  wind\n",
       "date                                               \n",
       "2012-01-01            0.0      12.8       5.0   4.7\n",
       "2012-01-02           10.9      10.6       2.8   4.5\n",
       "2012-01-03            0.8      11.7       7.2   2.3\n",
       "2012-01-04           20.3      12.2       5.6   4.7\n",
       "2012-01-05            1.3       8.9       2.8   6.1"
      ]
     },
     "execution_count": 24,
     "metadata": {},
     "output_type": "execute_result"
    }
   ],
   "source": [
    "# CHECKING\n",
    "by_day.head()"
   ]
  },
  {
   "cell_type": "code",
   "execution_count": 25,
   "id": "f1feab53",
   "metadata": {},
   "outputs": [
    {
     "data": {
      "text/plain": [
       "<AxesSubplot:xlabel='date'>"
      ]
     },
     "execution_count": 25,
     "metadata": {},
     "output_type": "execute_result"
    },
    {
     "data": {
      "image/png": "[encoded data removed]",
      "text/plain": [
       "<Figure size 640x480 with 1 Axes>"
      ]
     },
     "metadata": {},
     "output_type": "display_data"
    }
   ],
   "source": [
    "# plottin wind by day over time\n",
    "by_day.wind.plot()"
   ]
  },
  {
   "cell_type": "code",
   "execution_count": 26,
   "id": "8fcebe97",
   "metadata": {},
   "outputs": [
    {
     "data": {
      "text/plain": [
       "<AxesSubplot:xlabel='date'>"
      ]
     },
     "execution_count": 26,
     "metadata": {},
     "output_type": "execute_result"
    },
    {
     "data": {
      "image/png": "[encoded data removed]",
      "text/plain": [
       "<Figure size 640x480 with 1 Axes>"
      ]
     },
     "metadata": {},
     "output_type": "display_data"
    }
   ],
   "source": [
    "# that was too messy so I will use the by_month intead\n",
    "by_month.wind.plot()"
   ]
  },
  {
   "cell_type": "markdown",
   "id": "e93dffb9",
   "metadata": {},
   "source": [
    "### Which year-month combination is the windiest?"
   ]
  },
  {
   "cell_type": "code",
   "execution_count": 56,
   "id": "45412ed0",
   "metadata": {},
   "outputs": [
    {
     "data": {
      "text/html": [
       "<div>\n",
       "<style scoped>\n",
       "    .dataframe tbody tr th:only-of-type {\n",
       "        vertical-align: middle;\n",
       "    }\n",
       "\n",
       "    .dataframe tbody tr th {\n",
       "        vertical-align: top;\n",
       "    }\n",
       "\n",
       "    .dataframe thead th {\n",
       "        text-align: right;\n",
       "    }\n",
       "</style>\n",
       "<table border=\"1\" class=\"dataframe\">\n",
       "  <thead>\n",
       "    <tr style=\"text-align: right;\">\n",
       "      <th></th>\n",
       "      <th>precipitation</th>\n",
       "      <th>temp_max</th>\n",
       "      <th>temp_min</th>\n",
       "      <th>wind</th>\n",
       "    </tr>\n",
       "    <tr>\n",
       "      <th>date</th>\n",
       "      <th></th>\n",
       "      <th></th>\n",
       "      <th></th>\n",
       "      <th></th>\n",
       "    </tr>\n",
       "  </thead>\n",
       "  <tbody>\n",
       "    <tr>\n",
       "      <th>2015-12-31</th>\n",
       "      <td>284.5</td>\n",
       "      <td>259.8</td>\n",
       "      <td>118.6</td>\n",
       "      <td>134.6</td>\n",
       "    </tr>\n",
       "  </tbody>\n",
       "</table>\n",
       "</div>"
      ],
      "text/plain": [
       "            precipitation  temp_max  temp_min   wind\n",
       "date                                                \n",
       "2015-12-31          284.5     259.8     118.6  134.6"
      ]
     },
     "execution_count": 56,
     "metadata": {},
     "output_type": "execute_result"
    }
   ],
   "source": [
    "# feb of 2-14 was the windiest\n",
    "by_month[by_month.wind == by_month.wind.max()]"
   ]
  },
  {
   "cell_type": "markdown",
   "id": "fbb836fa",
   "metadata": {},
   "source": [
    "### What's the sunniest year? (Hint: which day has the highest number of days where weather == sun?)"
   ]
  },
  {
   "cell_type": "code",
   "execution_count": 28,
   "id": "71d5014d",
   "metadata": {},
   "outputs": [
    {
     "data": {
      "text/html": [
       "<div>\n",
       "<style scoped>\n",
       "    .dataframe tbody tr th:only-of-type {\n",
       "        vertical-align: middle;\n",
       "    }\n",
       "\n",
       "    .dataframe tbody tr th {\n",
       "        vertical-align: top;\n",
       "    }\n",
       "\n",
       "    .dataframe thead th {\n",
       "        text-align: right;\n",
       "    }\n",
       "</style>\n",
       "<table border=\"1\" class=\"dataframe\">\n",
       "  <thead>\n",
       "    <tr style=\"text-align: right;\">\n",
       "      <th></th>\n",
       "      <th>precipitation</th>\n",
       "      <th>temp_max</th>\n",
       "      <th>temp_min</th>\n",
       "      <th>wind</th>\n",
       "      <th>weather</th>\n",
       "    </tr>\n",
       "    <tr>\n",
       "      <th>date</th>\n",
       "      <th></th>\n",
       "      <th></th>\n",
       "      <th></th>\n",
       "      <th></th>\n",
       "      <th></th>\n",
       "    </tr>\n",
       "  </thead>\n",
       "  <tbody>\n",
       "    <tr>\n",
       "      <th>2012-01-01</th>\n",
       "      <td>0.0</td>\n",
       "      <td>12.8</td>\n",
       "      <td>5.0</td>\n",
       "      <td>4.7</td>\n",
       "      <td>drizzle</td>\n",
       "    </tr>\n",
       "    <tr>\n",
       "      <th>2012-01-02</th>\n",
       "      <td>10.9</td>\n",
       "      <td>10.6</td>\n",
       "      <td>2.8</td>\n",
       "      <td>4.5</td>\n",
       "      <td>rain</td>\n",
       "    </tr>\n",
       "    <tr>\n",
       "      <th>2012-01-03</th>\n",
       "      <td>0.8</td>\n",
       "      <td>11.7</td>\n",
       "      <td>7.2</td>\n",
       "      <td>2.3</td>\n",
       "      <td>rain</td>\n",
       "    </tr>\n",
       "    <tr>\n",
       "      <th>2012-01-04</th>\n",
       "      <td>20.3</td>\n",
       "      <td>12.2</td>\n",
       "      <td>5.6</td>\n",
       "      <td>4.7</td>\n",
       "      <td>rain</td>\n",
       "    </tr>\n",
       "    <tr>\n",
       "      <th>2012-01-05</th>\n",
       "      <td>1.3</td>\n",
       "      <td>8.9</td>\n",
       "      <td>2.8</td>\n",
       "      <td>6.1</td>\n",
       "      <td>rain</td>\n",
       "    </tr>\n",
       "  </tbody>\n",
       "</table>\n",
       "</div>"
      ],
      "text/plain": [
       "            precipitation  temp_max  temp_min  wind  weather\n",
       "date                                                        \n",
       "2012-01-01            0.0      12.8       5.0   4.7  drizzle\n",
       "2012-01-02           10.9      10.6       2.8   4.5     rain\n",
       "2012-01-03            0.8      11.7       7.2   2.3     rain\n",
       "2012-01-04           20.3      12.2       5.6   4.7     rain\n",
       "2012-01-05            1.3       8.9       2.8   6.1     rain"
      ]
     },
     "execution_count": 28,
     "metadata": {},
     "output_type": "execute_result"
    }
   ],
   "source": [
    "# cheacking the df\n",
    "df.head()"
   ]
  },
  {
   "cell_type": "code",
   "execution_count": 57,
   "id": "787ce5c2",
   "metadata": {},
   "outputs": [
    {
     "data": {
      "text/plain": [
       "date        weather\n",
       "2012-12-31  rain       191\n",
       "            sun        118\n",
       "            drizzle     31\n",
       "            snow        21\n",
       "            fog          5\n",
       "2013-12-31  sun        205\n",
       "            fog         82\n",
       "            rain        60\n",
       "            drizzle     16\n",
       "            snow         2\n",
       "2014-12-31  sun        211\n",
       "            fog        151\n",
       "            rain         3\n",
       "2015-12-31  sun        180\n",
       "            fog        173\n",
       "            drizzle      7\n",
       "            rain         5\n",
       "Name: weather, dtype: int64"
      ]
     },
     "execution_count": 57,
     "metadata": {},
     "output_type": "execute_result"
    }
   ],
   "source": [
    "df.resample('Y').weather.value_counts()"
   ]
  },
  {
   "cell_type": "code",
   "execution_count": 29,
   "id": "2604dcc1",
   "metadata": {},
   "outputs": [
    {
     "data": {
      "text/html": [
       "<div>\n",
       "<style scoped>\n",
       "    .dataframe tbody tr th:only-of-type {\n",
       "        vertical-align: middle;\n",
       "    }\n",
       "\n",
       "    .dataframe tbody tr th {\n",
       "        vertical-align: top;\n",
       "    }\n",
       "\n",
       "    .dataframe thead th {\n",
       "        text-align: right;\n",
       "    }\n",
       "</style>\n",
       "<table border=\"1\" class=\"dataframe\">\n",
       "  <thead>\n",
       "    <tr style=\"text-align: right;\">\n",
       "      <th></th>\n",
       "      <th>precipitation</th>\n",
       "      <th>temp_max</th>\n",
       "      <th>temp_min</th>\n",
       "      <th>wind</th>\n",
       "      <th>drizzle</th>\n",
       "      <th>fog</th>\n",
       "      <th>rain</th>\n",
       "      <th>snow</th>\n",
       "      <th>sun</th>\n",
       "    </tr>\n",
       "    <tr>\n",
       "      <th>date</th>\n",
       "      <th></th>\n",
       "      <th></th>\n",
       "      <th></th>\n",
       "      <th></th>\n",
       "      <th></th>\n",
       "      <th></th>\n",
       "      <th></th>\n",
       "      <th></th>\n",
       "      <th></th>\n",
       "    </tr>\n",
       "  </thead>\n",
       "  <tbody>\n",
       "    <tr>\n",
       "      <th>2012-12-31</th>\n",
       "      <td>3.349727</td>\n",
       "      <td>15.276776</td>\n",
       "      <td>7.289617</td>\n",
       "      <td>3.400820</td>\n",
       "      <td>0.084699</td>\n",
       "      <td>0.013661</td>\n",
       "      <td>0.521858</td>\n",
       "      <td>0.057377</td>\n",
       "      <td>0.322404</td>\n",
       "    </tr>\n",
       "    <tr>\n",
       "      <th>2013-12-31</th>\n",
       "      <td>2.268493</td>\n",
       "      <td>16.058904</td>\n",
       "      <td>8.153973</td>\n",
       "      <td>3.015890</td>\n",
       "      <td>0.043836</td>\n",
       "      <td>0.224658</td>\n",
       "      <td>0.164384</td>\n",
       "      <td>0.005479</td>\n",
       "      <td>0.561644</td>\n",
       "    </tr>\n",
       "    <tr>\n",
       "      <th>2014-12-31</th>\n",
       "      <td>3.377534</td>\n",
       "      <td>16.995890</td>\n",
       "      <td>8.662466</td>\n",
       "      <td>3.387671</td>\n",
       "      <td>0.000000</td>\n",
       "      <td>0.413699</td>\n",
       "      <td>0.008219</td>\n",
       "      <td>0.000000</td>\n",
       "      <td>0.578082</td>\n",
       "    </tr>\n",
       "    <tr>\n",
       "      <th>2015-12-31</th>\n",
       "      <td>3.121096</td>\n",
       "      <td>17.427945</td>\n",
       "      <td>8.835616</td>\n",
       "      <td>3.159726</td>\n",
       "      <td>0.019178</td>\n",
       "      <td>0.473973</td>\n",
       "      <td>0.013699</td>\n",
       "      <td>0.000000</td>\n",
       "      <td>0.493151</td>\n",
       "    </tr>\n",
       "  </tbody>\n",
       "</table>\n",
       "</div>"
      ],
      "text/plain": [
       "            precipitation   temp_max  temp_min      wind   drizzle       fog  \\\n",
       "date                                                                           \n",
       "2012-12-31       3.349727  15.276776  7.289617  3.400820  0.084699  0.013661   \n",
       "2013-12-31       2.268493  16.058904  8.153973  3.015890  0.043836  0.224658   \n",
       "2014-12-31       3.377534  16.995890  8.662466  3.387671  0.000000  0.413699   \n",
       "2015-12-31       3.121096  17.427945  8.835616  3.159726  0.019178  0.473973   \n",
       "\n",
       "                rain      snow       sun  \n",
       "date                                      \n",
       "2012-12-31  0.521858  0.057377  0.322404  \n",
       "2013-12-31  0.164384  0.005479  0.561644  \n",
       "2014-12-31  0.008219  0.000000  0.578082  \n",
       "2015-12-31  0.013699  0.000000  0.493151  "
      ]
     },
     "execution_count": 29,
     "metadata": {},
     "output_type": "execute_result"
    }
   ],
   "source": [
    "# I need to separate by year then have pandas count the number of sunny days\n",
    "# 2014 had the sunniest number of days\n",
    "pd.concat([df, pd.get_dummies(df.weather)], axis=1).resample('Y').mean()"
   ]
  },
  {
   "cell_type": "markdown",
   "id": "74b24b40",
   "metadata": {},
   "source": [
    "### In which month does it rain the most?"
   ]
  },
  {
   "cell_type": "code",
   "execution_count": 58,
   "id": "104fe4c8",
   "metadata": {},
   "outputs": [],
   "source": [
    "# getting new df with encoded variables\n",
    "new_df = pd.concat([df, pd.get_dummies(df.weather)], axis=1)"
   ]
  },
  {
   "cell_type": "code",
   "execution_count": 65,
   "id": "b0873394",
   "metadata": {},
   "outputs": [
    {
     "data": {
      "text/plain": [
       "Index(['Jan', 'Jan', 'Jan', 'Jan', 'Jan', 'Jan', 'Jan', 'Jan', 'Jan', 'Jan',\n",
       "       ...\n",
       "       'Dec', 'Dec', 'Dec', 'Dec', 'Dec', 'Dec', 'Dec', 'Dec', 'Dec', 'Dec'],\n",
       "      dtype='object', name='date', length=1461)"
      ]
     },
     "execution_count": 65,
     "metadata": {},
     "output_type": "execute_result"
    }
   ],
   "source": [
    "# ceraing a month columsn\n",
    "new_df['month'] = new_df.index.month\n",
    "new_df.index.strftime('%b')"
   ]
  },
  {
   "cell_type": "code",
   "execution_count": 32,
   "id": "209c2630",
   "metadata": {},
   "outputs": [
    {
     "data": {
      "text/plain": [
       "month\n",
       "1     False\n",
       "2      True\n",
       "3     False\n",
       "4     False\n",
       "5     False\n",
       "6     False\n",
       "7     False\n",
       "8     False\n",
       "9     False\n",
       "10    False\n",
       "11    False\n",
       "12    False\n",
       "Name: rain, dtype: bool"
      ]
     },
     "execution_count": 32,
     "metadata": {},
     "output_type": "execute_result"
    }
   ],
   "source": [
    "# feb has the most rain\n",
    "new_df.groupby('month').mean().rain == new_df.groupby('month').mean().rain.max()"
   ]
  },
  {
   "cell_type": "markdown",
   "id": "907d318c",
   "metadata": {},
   "source": [
    "### Which month has the most number of days with a non-zero amount of precipitation?"
   ]
  },
  {
   "cell_type": "code",
   "execution_count": 33,
   "id": "0320e743",
   "metadata": {},
   "outputs": [
    {
     "ename": "SyntaxError",
     "evalue": "invalid syntax (2872371883.py, line 1)",
     "output_type": "error",
     "traceback": [
      "\u001b[0;36m  Input \u001b[0;32mIn [33]\u001b[0;36m\u001b[0m\n\u001b[0;31m    new_df[]\u001b[0m\n\u001b[0m           ^\u001b[0m\n\u001b[0;31mSyntaxError\u001b[0m\u001b[0;31m:\u001b[0m invalid syntax\n"
     ]
    }
   ],
   "source": [
    "# new_df[]"
   ]
  },
  {
   "cell_type": "code",
   "execution_count": null,
   "id": "ecbba729",
   "metadata": {},
   "outputs": [],
   "source": [
    "# december\n",
    "new_df[new_df.precipitation > 0].groupby('month').count().max() == new_df[new_df.precipitation > 0].groupby('month').count()"
   ]
  },
  {
   "cell_type": "code",
   "execution_count": 66,
   "id": "290e0d45",
   "metadata": {},
   "outputs": [
    {
     "data": {
      "text/html": [
       "<div>\n",
       "<style scoped>\n",
       "    .dataframe tbody tr th:only-of-type {\n",
       "        vertical-align: middle;\n",
       "    }\n",
       "\n",
       "    .dataframe tbody tr th {\n",
       "        vertical-align: top;\n",
       "    }\n",
       "\n",
       "    .dataframe thead th {\n",
       "        text-align: right;\n",
       "    }\n",
       "</style>\n",
       "<table border=\"1\" class=\"dataframe\">\n",
       "  <thead>\n",
       "    <tr style=\"text-align: right;\">\n",
       "      <th></th>\n",
       "      <th>precipitation</th>\n",
       "      <th>temp_max</th>\n",
       "      <th>temp_min</th>\n",
       "      <th>wind</th>\n",
       "      <th>weather</th>\n",
       "      <th>drizzle</th>\n",
       "      <th>fog</th>\n",
       "      <th>rain</th>\n",
       "      <th>snow</th>\n",
       "      <th>sun</th>\n",
       "      <th>month</th>\n",
       "      <th>did_rain</th>\n",
       "    </tr>\n",
       "    <tr>\n",
       "      <th>date</th>\n",
       "      <th></th>\n",
       "      <th></th>\n",
       "      <th></th>\n",
       "      <th></th>\n",
       "      <th></th>\n",
       "      <th></th>\n",
       "      <th></th>\n",
       "      <th></th>\n",
       "      <th></th>\n",
       "      <th></th>\n",
       "      <th></th>\n",
       "      <th></th>\n",
       "    </tr>\n",
       "  </thead>\n",
       "  <tbody>\n",
       "    <tr>\n",
       "      <th>2012-01-01</th>\n",
       "      <td>0.0</td>\n",
       "      <td>12.8</td>\n",
       "      <td>5.0</td>\n",
       "      <td>4.7</td>\n",
       "      <td>drizzle</td>\n",
       "      <td>1</td>\n",
       "      <td>0</td>\n",
       "      <td>0</td>\n",
       "      <td>0</td>\n",
       "      <td>0</td>\n",
       "      <td>1</td>\n",
       "      <td>0</td>\n",
       "    </tr>\n",
       "    <tr>\n",
       "      <th>2012-01-02</th>\n",
       "      <td>10.9</td>\n",
       "      <td>10.6</td>\n",
       "      <td>2.8</td>\n",
       "      <td>4.5</td>\n",
       "      <td>rain</td>\n",
       "      <td>0</td>\n",
       "      <td>0</td>\n",
       "      <td>1</td>\n",
       "      <td>0</td>\n",
       "      <td>0</td>\n",
       "      <td>1</td>\n",
       "      <td>1</td>\n",
       "    </tr>\n",
       "    <tr>\n",
       "      <th>2012-01-03</th>\n",
       "      <td>0.8</td>\n",
       "      <td>11.7</td>\n",
       "      <td>7.2</td>\n",
       "      <td>2.3</td>\n",
       "      <td>rain</td>\n",
       "      <td>0</td>\n",
       "      <td>0</td>\n",
       "      <td>1</td>\n",
       "      <td>0</td>\n",
       "      <td>0</td>\n",
       "      <td>1</td>\n",
       "      <td>1</td>\n",
       "    </tr>\n",
       "    <tr>\n",
       "      <th>2012-01-04</th>\n",
       "      <td>20.3</td>\n",
       "      <td>12.2</td>\n",
       "      <td>5.6</td>\n",
       "      <td>4.7</td>\n",
       "      <td>rain</td>\n",
       "      <td>0</td>\n",
       "      <td>0</td>\n",
       "      <td>1</td>\n",
       "      <td>0</td>\n",
       "      <td>0</td>\n",
       "      <td>1</td>\n",
       "      <td>1</td>\n",
       "    </tr>\n",
       "    <tr>\n",
       "      <th>2012-01-05</th>\n",
       "      <td>1.3</td>\n",
       "      <td>8.9</td>\n",
       "      <td>2.8</td>\n",
       "      <td>6.1</td>\n",
       "      <td>rain</td>\n",
       "      <td>0</td>\n",
       "      <td>0</td>\n",
       "      <td>1</td>\n",
       "      <td>0</td>\n",
       "      <td>0</td>\n",
       "      <td>1</td>\n",
       "      <td>1</td>\n",
       "    </tr>\n",
       "  </tbody>\n",
       "</table>\n",
       "</div>"
      ],
      "text/plain": [
       "            precipitation  temp_max  temp_min  wind  weather  drizzle  fog  \\\n",
       "date                                                                         \n",
       "2012-01-01            0.0      12.8       5.0   4.7  drizzle        1    0   \n",
       "2012-01-02           10.9      10.6       2.8   4.5     rain        0    0   \n",
       "2012-01-03            0.8      11.7       7.2   2.3     rain        0    0   \n",
       "2012-01-04           20.3      12.2       5.6   4.7     rain        0    0   \n",
       "2012-01-05            1.3       8.9       2.8   6.1     rain        0    0   \n",
       "\n",
       "            rain  snow  sun  month  did_rain  \n",
       "date                                          \n",
       "2012-01-01     0     0    0      1         0  \n",
       "2012-01-02     1     0    0      1         1  \n",
       "2012-01-03     1     0    0      1         1  \n",
       "2012-01-04     1     0    0      1         1  \n",
       "2012-01-05     1     0    0      1         1  "
      ]
     },
     "execution_count": 66,
     "metadata": {},
     "output_type": "execute_result"
    }
   ],
   "source": [
    "new_df['did_rain'] = np.where(new_df['precipitation'] > 0, 1, 0)\n",
    "new_df.head()"
   ]
  },
  {
   "cell_type": "markdown",
   "id": "dfa36984",
   "metadata": {},
   "source": [
    "# Part 3"
   ]
  },
  {
   "cell_type": "code",
   "execution_count": null,
   "id": "4952a7d1",
   "metadata": {},
   "outputs": [],
   "source": [
    "# getting data\n",
    "df = data.flights_20k()"
   ]
  },
  {
   "cell_type": "code",
   "execution_count": null,
   "id": "fc4007ec",
   "metadata": {},
   "outputs": [],
   "source": [
    "# setting index to date\n",
    "# df = df.set_index('date')"
   ]
  },
  {
   "cell_type": "markdown",
   "id": "07bf1217",
   "metadata": {},
   "source": [
    "### Convert any negative delays to 0."
   ]
  },
  {
   "cell_type": "code",
   "execution_count": null,
   "id": "03f29fcf",
   "metadata": {},
   "outputs": [],
   "source": [
    "# turning negatices to 0\n",
    "df.delay[df['delay'] < 0] = 0\n",
    "df"
   ]
  },
  {
   "cell_type": "markdown",
   "id": "ba6ba1fa",
   "metadata": {},
   "source": [
    "### Which hour of the day has the highest average delay?"
   ]
  },
  {
   "cell_type": "code",
   "execution_count": null,
   "id": "5d89ba86",
   "metadata": {},
   "outputs": [],
   "source": [
    "# setting the hour\n",
    "df['hour'] = df.date.dt.hour"
   ]
  },
  {
   "cell_type": "code",
   "execution_count": null,
   "id": "b7596d41",
   "metadata": {},
   "outputs": [],
   "source": [
    "# getting the highest avg delay per hour\n",
    "df.groupby('hour').mean() == df.groupby('hour').mean().max()\n",
    "\n",
    "# 3am"
   ]
  },
  {
   "cell_type": "markdown",
   "id": "e485d98e",
   "metadata": {},
   "source": [
    "### Does the day of the week make a difference in the delay amount?"
   ]
  },
  {
   "cell_type": "code",
   "execution_count": null,
   "id": "20328ab6",
   "metadata": {},
   "outputs": [],
   "source": [
    "# creating weekday names column\n",
    "df['day_name'] = df.date.dt.day_name()"
   ]
  },
  {
   "cell_type": "code",
   "execution_count": null,
   "id": "efbdcae9",
   "metadata": {},
   "outputs": [],
   "source": [
    "# yes, may do a stats test to prove it\n",
    "df.groupby('day_name').mean()"
   ]
  },
  {
   "cell_type": "markdown",
   "id": "be2cff67",
   "metadata": {},
   "source": [
    "### Does the month make a difference in the delay amount?"
   ]
  },
  {
   "cell_type": "code",
   "execution_count": null,
   "id": "2ee7c319",
   "metadata": {},
   "outputs": [],
   "source": [
    "# creating month name column\n",
    "df['month_name'] = df.date.dt.month_name()"
   ]
  },
  {
   "cell_type": "code",
   "execution_count": null,
   "id": "5f49e10d",
   "metadata": {},
   "outputs": [],
   "source": [
    "# yes\n",
    "df.groupby('month_name').mean()"
   ]
  },
  {
   "cell_type": "markdown",
   "id": "01906c92",
   "metadata": {},
   "source": [
    "# Bonus"
   ]
  },
  {
   "cell_type": "code",
   "execution_count": null,
   "id": "cc3078a0",
   "metadata": {},
   "outputs": [],
   "source": [
    "# getting data\n",
    "df = data.iowa_electricity()"
   ]
  },
  {
   "cell_type": "code",
   "execution_count": null,
   "id": "611528df",
   "metadata": {},
   "outputs": [],
   "source": [
    "# inspecting\n",
    "df.head()"
   ]
  },
  {
   "cell_type": "markdown",
   "id": "a1314356",
   "metadata": {},
   "source": [
    "### For each row, calculate the percentage of the year's total that energy source provided."
   ]
  },
  {
   "cell_type": "code",
   "execution_count": null,
   "id": "226f1370",
   "metadata": {},
   "outputs": [],
   "source": [
    "# checking the year values\n",
    "df.year.value_counts()"
   ]
  },
  {
   "cell_type": "code",
   "execution_count": null,
   "id": "ae28f907",
   "metadata": {},
   "outputs": [],
   "source": [
    "# calculating the percentage, but in decimal form\n",
    "df['perc_total_energy'] = df.net_generation / df.net_generation.sum()"
   ]
  },
  {
   "cell_type": "code",
   "execution_count": null,
   "id": "dc16a21e",
   "metadata": {},
   "outputs": [],
   "source": [
    "df.head()"
   ]
  },
  {
   "cell_type": "markdown",
   "id": "d467140c",
   "metadata": {},
   "source": [
    "### Lineplot of generation over time, color by source"
   ]
  },
  {
   "cell_type": "code",
   "execution_count": null,
   "id": "10ea9dfb",
   "metadata": {},
   "outputs": [],
   "source": [
    "sns.lineplot(df['year'],df['net_generation'], hue=df.source)"
   ]
  },
  {
   "cell_type": "markdown",
   "id": "2aa7563d",
   "metadata": {},
   "source": [
    "### Display the data as table where years are columns, and energy source is rows (Hint: df.pivot_table)"
   ]
  },
  {
   "cell_type": "code",
   "execution_count": null,
   "id": "7b3b4c3d",
   "metadata": {},
   "outputs": [],
   "source": [
    "df.drop(columns='perc_total_energy').pivot_table(index='source', columns='year')"
   ]
  },
  {
   "cell_type": "markdown",
   "id": "3d01353c",
   "metadata": {},
   "source": [
    "### Make a line plot that shows the amount of energy generated over time. Each source should be a separate line?"
   ]
  },
  {
   "cell_type": "code",
   "execution_count": null,
   "id": "2eea7067",
   "metadata": {},
   "outputs": [],
   "source": [
    "# creating cumulative net generation column\n",
    "# df.drop(columns='cumulative_generation', inplace=True)\n",
    "df['cumulative_generation'] = df.groupby('source').transform(lambda x: x.cumsum()).net_generation"
   ]
  },
  {
   "cell_type": "code",
   "execution_count": null,
   "id": "fd5b7d7c",
   "metadata": {},
   "outputs": [],
   "source": [
    "df.sample(5)"
   ]
  },
  {
   "cell_type": "code",
   "execution_count": null,
   "id": "380c5db2",
   "metadata": {},
   "outputs": [],
   "source": [
    "sns.lineplot(data=df, x='year',y='cumulative_generation', hue=df.source)"
   ]
  },
  {
   "cell_type": "markdown",
   "id": "9d3c22ca",
   "metadata": {},
   "source": [
    "### Is the total generation increasing over time?"
   ]
  },
  {
   "cell_type": "markdown",
   "id": "e2dfbe2e",
   "metadata": {},
   "source": [
    "Yes"
   ]
  },
  {
   "cell_type": "markdown",
   "id": "d3891117",
   "metadata": {},
   "source": [
    "### How would you control for increasing consumption over time when considering how much energy is coming from each source?\n",
    "express each number as a % of the year's total"
   ]
  },
  {
   "cell_type": "code",
   "execution_count": null,
   "id": "3f0bd961",
   "metadata": {},
   "outputs": [],
   "source": [
    "# create multiple graphs based on the years consumption"
   ]
  },
  {
   "cell_type": "markdown",
   "id": "4eaf5c84",
   "metadata": {},
   "source": [
    "# Bonus 2"
   ]
  },
  {
   "cell_type": "markdown",
   "id": "864aa7ad",
   "metadata": {},
   "source": [
    "### Use the sf_temps dataset"
   ]
  },
  {
   "cell_type": "code",
   "execution_count": null,
   "id": "0e079bbb",
   "metadata": {},
   "outputs": [],
   "source": [
    "df = data.sf_temps()"
   ]
  },
  {
   "cell_type": "code",
   "execution_count": null,
   "id": "2022c5d3",
   "metadata": {},
   "outputs": [],
   "source": [
    "df.head()"
   ]
  },
  {
   "cell_type": "markdown",
   "id": "5be1d2de",
   "metadata": {},
   "source": [
    "### Create 4 categories for temperature, cold, cool, warm, hot (hint: use pd.cut or pd.qcut for this)"
   ]
  },
  {
   "cell_type": "code",
   "execution_count": null,
   "id": "8d5c558d",
   "metadata": {},
   "outputs": [],
   "source": [
    "# checking mins and maxes of the data\n",
    "df.temp.describe()"
   ]
  },
  {
   "cell_type": "code",
   "execution_count": null,
   "id": "f1cb9be2",
   "metadata": {},
   "outputs": [],
   "source": [
    "# creating categories\n",
    "df['temp_cat'] = pd.cut(df['temp'], bins=[45, 52, 56, 60, 73], labels = ['cold', 'cool', 'warm', 'hot'])"
   ]
  },
  {
   "cell_type": "markdown",
   "id": "fd613c6c",
   "metadata": {},
   "source": [
    "### How does the occurances of these 4 categories change month over month? i.e. how many days have each distinction? Visualize this and give the visual appropriate colors for each category."
   ]
  },
  {
   "cell_type": "code",
   "execution_count": null,
   "id": "e0b7d6aa",
   "metadata": {},
   "outputs": [],
   "source": [
    "# getting visual of this representation\n",
    "pd.crosstab(index=df['temp_cat'], columns=df.date.dt.month)"
   ]
  },
  {
   "cell_type": "code",
   "execution_count": null,
   "id": "c48e5ecb",
   "metadata": {},
   "outputs": [],
   "source": [
    "# creating new columns for month number\n",
    "df['month'] = df.date.dt.month\n",
    "# df['month_name'] = df."
   ]
  },
  {
   "cell_type": "code",
   "execution_count": null,
   "id": "0f4e6896",
   "metadata": {},
   "outputs": [],
   "source": [
    "# creating a graph with the colors\n",
    "sns.lineplot(data=df, x='month', y='temp', palette='vlag', hue='temp_cat')\n",
    "plt.legend()\n",
    "plt.ylabel('Months')\n",
    "plt.xlabel('Temperature')\n",
    "plt.title('Temperature Change Over Months')"
   ]
  },
  {
   "cell_type": "markdown",
   "id": "961261e4",
   "metadata": {},
   "source": [
    "### Visualize the number of days of each month that fall into each bin by year (e.g. x=month, y=n_days, hue=temp_bin) or st similar"
   ]
  },
  {
   "cell_type": "code",
   "execution_count": null,
   "id": "0a68b416",
   "metadata": {},
   "outputs": [],
   "source": [
    "df['day'] = df.date.dt.day"
   ]
  },
  {
   "cell_type": "code",
   "execution_count": null,
   "id": "6717cff0",
   "metadata": {},
   "outputs": [],
   "source": [
    "df = df.set_index('date')"
   ]
  },
  {
   "cell_type": "code",
   "execution_count": null,
   "id": "19bdb18e",
   "metadata": {},
   "outputs": [],
   "source": [
    "df['days_in_month'] = df.groupby('month').day.max()"
   ]
  },
  {
   "cell_type": "code",
   "execution_count": null,
   "id": "e24c5add",
   "metadata": {},
   "outputs": [],
   "source": [
    "df = df.drop(columns=['days_in_month', 'days_in_moonth'])"
   ]
  },
  {
   "cell_type": "code",
   "execution_count": null,
   "id": "043b5cd9",
   "metadata": {},
   "outputs": [],
   "source": [
    "# im thinking there will be subplots that show each year and in each year there will be 4 bins for\n",
    "# i'll try one first"
   ]
  },
  {
   "cell_type": "code",
   "execution_count": null,
   "id": "d7eb6f07",
   "metadata": {},
   "outputs": [],
   "source": [
    "sns.barplot(data=df, x='month', y='day', palette='vlag', hue='temp_cat')"
   ]
  }
 ],
 "metadata": {
  "kernelspec": {
   "display_name": "Python 3 (ipykernel)",
   "language": "python",
   "name": "python3"
  },
  "language_info": {
   "codemirror_mode": {
    "name": "ipython",
    "version": 3
   },
   "file_extension": ".py",
   "mimetype": "text/x-python",
   "name": "python",
   "nbconvert_exporter": "python",
   "pygments_lexer": "ipython3",
   "version": "3.9.13"
  }
 },
 "nbformat": 4,
 "nbformat_minor": 5
}
